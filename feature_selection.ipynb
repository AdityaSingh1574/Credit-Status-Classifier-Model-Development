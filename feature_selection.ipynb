{
 "cells": [
  {
   "cell_type": "code",
   "execution_count": 3,
   "metadata": {},
   "outputs": [],
   "source": [
    "import pandas as pd"
   ]
  },
  {
   "cell_type": "code",
   "execution_count": 4,
   "metadata": {},
   "outputs": [],
   "source": [
    "df_train = pd.read_csv(\"train_prep.csv\")"
   ]
  },
  {
   "cell_type": "code",
   "execution_count": 5,
   "metadata": {},
   "outputs": [],
   "source": [
    "drop_columns = ['Unnamed: 0.1', 'Unnamed: 0']\n",
    "df_train.drop(drop_columns,axis=1,inplace=True)"
   ]
  },
  {
   "cell_type": "code",
   "execution_count": 6,
   "metadata": {},
   "outputs": [
    {
     "data": {
      "text/plain": [
       "Index(['Month', 'Age', 'Occupation', 'Annual_Income', 'Monthly_Inhand_Salary',\n",
       "       'Num_Bank_Accounts', 'Num_Credit_Card', 'Interest_Rate', 'Num_of_Loan',\n",
       "       'Type_of_Loan', 'Delay_from_due_date', 'Num_of_Delayed_Payment',\n",
       "       'Changed_Credit_Limit', 'Num_Credit_Inquiries', 'Credit_Mix',\n",
       "       'Outstanding_Debt', 'Credit_Utilization_Ratio', 'Credit_History_Age',\n",
       "       'Payment_of_Min_Amount', 'Total_EMI_per_month',\n",
       "       'Amount_invested_monthly', 'Payment_Behaviour', 'Monthly_Balance',\n",
       "       'Credit_Score'],\n",
       "      dtype='object')"
      ]
     },
     "execution_count": 6,
     "metadata": {},
     "output_type": "execute_result"
    }
   ],
   "source": [
    "df_train.columns"
   ]
  },
  {
   "cell_type": "code",
   "execution_count": 7,
   "metadata": {},
   "outputs": [
    {
     "name": "stdout",
     "output_type": "stream",
     "text": [
      "(100000, 23)\n",
      "(100000,)\n"
     ]
    }
   ],
   "source": [
    "#Split Input & Output Data\n",
    "X = df_train.drop('Credit_Score',axis=1)\n",
    "y = df_train['Credit_Score']\n",
    "print(X.shape)\n",
    "print(y.shape)"
   ]
  },
  {
   "cell_type": "code",
   "execution_count": 8,
   "metadata": {},
   "outputs": [],
   "source": [
    "from sklearn.model_selection import train_test_split,cross_val_score"
   ]
  },
  {
   "cell_type": "code",
   "execution_count": 9,
   "metadata": {},
   "outputs": [
    {
     "name": "stdout",
     "output_type": "stream",
     "text": [
      "(80000, 23)\n",
      "(20000, 23)\n",
      "(80000,)\n",
      "(20000,)\n"
     ]
    }
   ],
   "source": [
    "X_train, X_test, y_train, y_test = train_test_split(X, y, test_size=0.2, random_state=17,stratify=y)\n",
    "print(X_train.shape)\n",
    "print(X_test.shape)\n",
    "print(y_train.shape)\n",
    "print(y_test.shape)"
   ]
  },
  {
   "cell_type": "code",
   "execution_count": 10,
   "metadata": {},
   "outputs": [],
   "source": [
    "from sklearn.metrics import make_scorer, precision_score, recall_score\n",
    "\n",
    "# Custom scorer for precision of the minority class\n",
    "precision_minority_scorer = make_scorer(precision_score, pos_label=1)\n",
    "\n",
    "# Custom scorer for precision of the majority class\n",
    "precision_majority_scorer = make_scorer(precision_score, pos_label=0)\n",
    "\n",
    "# Custom scorer for recall of the minority class\n",
    "recall_minority_scorer = make_scorer(recall_score, pos_label=1)\n"
   ]
  },
  {
   "cell_type": "code",
   "execution_count": 11,
   "metadata": {},
   "outputs": [
    {
     "name": "stderr",
     "output_type": "stream",
     "text": [
      "c:\\Users\\aditya.singh1\\Desktop\\Credit-scoring-model\\venv\\Lib\\site-packages\\sklearn\\metrics\\_classification.py:1531: UndefinedMetricWarning: Precision is ill-defined and being set to 0.0 due to no predicted samples. Use `zero_division` parameter to control this behavior.\n",
      "  _warn_prf(average, modifier, f\"{metric.capitalize()} is\", len(result))\n",
      "c:\\Users\\aditya.singh1\\Desktop\\Credit-scoring-model\\venv\\Lib\\site-packages\\sklearn\\metrics\\_classification.py:1531: UndefinedMetricWarning: Precision is ill-defined and being set to 0.0 due to no predicted samples. Use `zero_division` parameter to control this behavior.\n",
      "  _warn_prf(average, modifier, f\"{metric.capitalize()} is\", len(result))\n",
      "c:\\Users\\aditya.singh1\\Desktop\\Credit-scoring-model\\venv\\Lib\\site-packages\\sklearn\\metrics\\_classification.py:1531: UndefinedMetricWarning: Precision is ill-defined and being set to 0.0 due to no predicted samples. Use `zero_division` parameter to control this behavior.\n",
      "  _warn_prf(average, modifier, f\"{metric.capitalize()} is\", len(result))\n",
      "c:\\Users\\aditya.singh1\\Desktop\\Credit-scoring-model\\venv\\Lib\\site-packages\\sklearn\\metrics\\_classification.py:1531: UndefinedMetricWarning: Precision is ill-defined and being set to 0.0 due to no predicted samples. Use `zero_division` parameter to control this behavior.\n",
      "  _warn_prf(average, modifier, f\"{metric.capitalize()} is\", len(result))\n",
      "c:\\Users\\aditya.singh1\\Desktop\\Credit-scoring-model\\venv\\Lib\\site-packages\\sklearn\\metrics\\_classification.py:1531: UndefinedMetricWarning: Precision is ill-defined and being set to 0.0 due to no predicted samples. Use `zero_division` parameter to control this behavior.\n",
      "  _warn_prf(average, modifier, f\"{metric.capitalize()} is\", len(result))\n"
     ]
    },
    {
     "name": "stdout",
     "output_type": "stream",
     "text": [
      "Best Scores: {'precision_minority': np.float64(0.8181799846945262), 'precision_majority': np.float64(0.9283276437535107), 'recall_minority': np.float64(0.8260621343779502)}\n",
      "Best Features for Precision (Minority Class): ['Month', 'Age', 'Occupation', 'Annual_Income', 'Monthly_Inhand_Salary', 'Num_Bank_Accounts', 'Num_Credit_Card', 'Interest_Rate', 'Num_of_Loan', 'Type_of_Loan']\n",
      "Best Features for Precision (Majority Class): ['Month', 'Age', 'Occupation', 'Annual_Income', 'Monthly_Inhand_Salary', 'Num_Bank_Accounts', 'Num_Credit_Card', 'Interest_Rate', 'Num_of_Loan', 'Type_of_Loan', 'Delay_from_due_date', 'Num_of_Delayed_Payment', 'Changed_Credit_Limit', 'Num_Credit_Inquiries', 'Credit_Mix', 'Outstanding_Debt', 'Credit_Utilization_Ratio', 'Credit_History_Age']\n",
      "Best Features for Recall (Minority Class): ['Month', 'Age', 'Occupation', 'Annual_Income', 'Monthly_Inhand_Salary', 'Num_Bank_Accounts', 'Num_Credit_Card', 'Interest_Rate', 'Num_of_Loan', 'Type_of_Loan', 'Delay_from_due_date', 'Num_of_Delayed_Payment', 'Changed_Credit_Limit', 'Num_Credit_Inquiries', 'Credit_Mix', 'Outstanding_Debt', 'Credit_Utilization_Ratio', 'Credit_History_Age', 'Payment_of_Min_Amount', 'Total_EMI_per_month']\n"
     ]
    },
    {
     "ename": "",
     "evalue": "",
     "output_type": "error",
     "traceback": [
      "\u001b[1;31mThe Kernel crashed while executing code in the current cell or a previous cell. \n",
      "\u001b[1;31mPlease review the code in the cell(s) to identify a possible cause of the failure. \n",
      "\u001b[1;31mClick <a href='https://aka.ms/vscodeJupyterKernelCrash'>here</a> for more info. \n",
      "\u001b[1;31mView Jupyter <a href='command:jupyter.viewOutput'>log</a> for further details."
     ]
    }
   ],
   "source": [
    "import numpy as np\n",
    "from sklearn.ensemble import RandomForestClassifier\n",
    "from sklearn.model_selection import StratifiedKFold\n",
    "\n",
    "# Initialize the model\n",
    "classifier = RandomForestClassifier()\n",
    "\n",
    "# Define the cross-validation configuration\n",
    "cv = StratifiedKFold(5)\n",
    "\n",
    "# Initialize tracking for the best scores and best features for each metric\n",
    "best_scores = {\n",
    "    'precision_minority': 0,\n",
    "    'precision_majority': 0,\n",
    "    'recall_minority': 0\n",
    "}\n",
    "best_features = {\n",
    "    'precision_minority': None,\n",
    "    'precision_majority': None,\n",
    "    'recall_minority': None\n",
    "}\n",
    "\n",
    "# Start with all features\n",
    "features = list(X_train.columns)\n",
    "while features:\n",
    "    # Subset the training data to the current set of features\n",
    "    X_train_subset = X_train[features]\n",
    "\n",
    "    # Perform cross-validation\n",
    "    scores = cross_val_score(classifier, X_train_subset, y_train, cv=cv, scoring=precision_minority_scorer)\n",
    "    precision_minority = np.mean(scores)\n",
    "    scores = cross_val_score(classifier, X_train_subset, y_train, cv=cv, scoring=precision_majority_scorer)\n",
    "    precision_majority = np.mean(scores)\n",
    "    scores = cross_val_score(classifier, X_train_subset, y_train, cv=cv, scoring=recall_minority_scorer)\n",
    "    recall_minority = np.mean(scores)\n",
    "\n",
    "    # Check if current feature set is the best for any metric\n",
    "    if precision_minority > best_scores['precision_minority']:\n",
    "        best_scores['precision_minority'] = precision_minority\n",
    "        best_features['precision_minority'] = features.copy()\n",
    "    if precision_majority > best_scores['precision_majority']:\n",
    "        best_scores['precision_majority'] = precision_majority\n",
    "        best_features['precision_majority'] = features.copy()\n",
    "    if recall_minority > best_scores['recall_minority']:\n",
    "        best_scores['recall_minority'] = recall_minority\n",
    "        best_features['recall_minority'] = features.copy()\n",
    "\n",
    "    # Remove the least important feature (simple method: last in list for illustration)\n",
    "    if features:\n",
    "        features.pop()\n",
    "\n",
    "# Output the best scores and corresponding features\n",
    "print(\"Best Scores:\", best_scores)\n",
    "print(\"Best Features for Precision (Minority Class):\", best_features['precision_minority'])\n",
    "print(\"Best Features for Precision (Majority Class):\", best_features['precision_majority'])\n",
    "print(\"Best Features for Recall (Minority Class):\", best_features['recall_minority'])\n"
   ]
  },
  {
   "cell_type": "code",
   "execution_count": null,
   "metadata": {},
   "outputs": [],
   "source": []
  }
 ],
 "metadata": {
  "kernelspec": {
   "display_name": "Python 3",
   "language": "python",
   "name": "python3"
  },
  "language_info": {
   "codemirror_mode": {
    "name": "ipython",
    "version": 3
   },
   "file_extension": ".py",
   "mimetype": "text/x-python",
   "name": "python",
   "nbconvert_exporter": "python",
   "pygments_lexer": "ipython3",
   "version": "3.11.1"
  }
 },
 "nbformat": 4,
 "nbformat_minor": 2
}
